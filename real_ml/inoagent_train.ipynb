{
 "cells": [
  {
   "cell_type": "code",
   "execution_count": 1,
   "id": "770011ac-3c5a-4896-ae8d-441eb0616d1d",
   "metadata": {
    "tags": []
   },
   "outputs": [],
   "source": [
    "import tensorflow as tf\n",
    "from tensorflow.keras.applications import EfficientNetB3\n",
    "from tensorflow.keras.preprocessing.image import ImageDataGenerator\n",
    "from tensorflow.keras.layers import Dense, GlobalAveragePooling2D\n",
    "from tensorflow.keras.models import Model\n",
    "from tensorflow.keras.optimizers import Adam\n",
    "from tensorflow.keras.regularizers import l2\n",
    "from tensorflow.keras.callbacks import EarlyStopping\n",
    "from tensorflow.keras.layers import Dropout\n",
    "import os\n",
    "import random\n",
    "import shutil"
   ]
  },
  {
   "cell_type": "code",
   "execution_count": 2,
   "id": "4da48afb-ff66-43a1-9105-a3c8f99f0a4b",
   "metadata": {
    "tags": []
   },
   "outputs": [],
   "source": [
    "# Пути к данным\n",
    "train_data_dir = 'data/'\n",
    "not_agent_dir = 'data/not_inoagent/'\n",
    "balanced_data_dir = 'data/balanced_data/'\n",
    "balanced_not_agent_dir = os.path.join(balanced_data_dir, 'not_inoagent/')\n",
    "\n",
    "required_not_agent_images = 100  # Столько же изображений нужно взять из класса \"не иноагентов\""
   ]
  },
  {
   "cell_type": "code",
   "execution_count": null,
   "id": "e9b86ac6-2997-457a-84c8-56d10e974bd0",
   "metadata": {},
   "outputs": [],
   "source": [
    "# Создание директории для сбалансированных данных (иноагенты + не иноагенты)\n",
    "if not os.path.exists(balanced_data_dir):\n",
    "    os.makedirs(balanced_data_dir)\n",
    "if not os.path.exists(balanced_not_agent_dir):\n",
    "    os.makedirs(balanced_not_agent_dir)\n",
    "\n",
    "# Копируем папки с изображениями иноагентов в новую сбалансированную директорию\n",
    "for agent_dir in os.listdir(train_data_dir):\n",
    "    agent_path = os.path.join(train_data_dir, agent_dir)\n",
    "    if agent_dir.startswith('agent_'):\n",
    "        shutil.copytree(agent_path, os.path.join(balanced_data_dir, agent_dir))\n",
    "\n",
    "# Получаем все изображения \"не иноагентов\" и случайно выбираем нужное количество\n",
    "all_not_agent_images = os.listdir(not_agent_dir)\n",
    "selected_not_agent_images = random.sample(all_not_agent_images, required_not_agent_images)\n",
    "\n",
    "# Копируем выбранные изображения в новую папку \"balanced_not_agent\"\n",
    "for img in selected_not_agent_images:\n",
    "    shutil.copy(os.path.join(not_agent_dir, img), os.path.join(balanced_not_agent_dir, img))"
   ]
  },
  {
   "cell_type": "code",
   "execution_count": 4,
   "id": "a163d899-bb40-49ec-8893-4c8307a1f7d6",
   "metadata": {
    "tags": []
   },
   "outputs": [
    {
     "name": "stdout",
     "output_type": "stream",
     "text": [
      "Found 160 images belonging to 2 classes.\n",
      "Found 39 images belonging to 2 classes.\n"
     ]
    }
   ],
   "source": [
    "# Параметры модели\n",
    "img_height, img_width = 300, 300  # Размер входных изображений для EfficientNet\n",
    "batch_size = 8 #размер batch'a\n",
    "\n",
    "# Создание генератора данных с аугментацией для обучения\n",
    "train_datagen = ImageDataGenerator(\n",
    "    rescale=1./255,\n",
    "    validation_split=0.2,\n",
    "    #rotation_range=30,          # Увеличиваем диапазон вращения\n",
    "    #width_shift_range=0.3,      # Увеличиваем сдвиги\n",
    "    #height_shift_range=0.3,\n",
    "    #shear_range=0.3,            # Увеличиваем сдвиг угла\n",
    "    #zoom_range=0.3,             # Увеличиваем масштабирование\n",
    "    #horizontal_flip=True,       # Используем горизонтальное отражение\n",
    "    #brightness_range=[0.8, 1.2],  # Варьируем яркость изображений\n",
    "    #fill_mode='nearest'\n",
    ")\n",
    "\n",
    "\n",
    "# Генераторы для тренировки и валидации на сбалансированных данных\n",
    "train_generator = train_datagen.flow_from_directory(\n",
    "    balanced_data_dir,         # Используем сбалансированную директорию\n",
    "    target_size=(img_height, img_width),\n",
    "    batch_size=batch_size,\n",
    "    class_mode='categorical',  # Для многоклассовой классификации\n",
    "    subset='training'\n",
    ")\n",
    "\n",
    "validation_generator = train_datagen.flow_from_directory(\n",
    "    balanced_data_dir,         # Используем сбалансированную директорию\n",
    "    target_size=(img_height, img_width),\n",
    "    batch_size=batch_size,\n",
    "    class_mode='categorical',\n",
    "    subset='validation'\n",
    ")\n",
    "\n",
    "# Определение количества классов\n",
    "num_classes = train_generator.num_classes\n",
    "\n",
    "# Загрузка предобученной модели EfficientNetB0 без верхних слоев\n",
    "base_model = EfficientNetB3(weights='imagenet', include_top=False, input_shape=(img_height, img_width, 3))\n",
    "\n",
    "# Замораживаем базовые слои\n",
    "for layer in base_model.layers:\n",
    "    layer.trainable = False\n",
    "\n",
    "# Добавляем свои слои поверх базовой модели\n",
    "x = base_model.output\n",
    "x = GlobalAveragePooling2D()(x)  # Глобальный Average Pooling\n",
    "x = Dense(512, activation='relu', kernel_regularizer=l2(0.01))(x)  # Полносвязный слой\n",
    "x = Dropout(0.5)(x)\n",
    "predictions = Dense(num_classes, activation='sigmoid')(x)  # Выходной слой с softmax для многоклассовой классификации #relu для многоклассовой"
   ]
  },
  {
   "cell_type": "code",
   "execution_count": null,
   "id": "3271c773-e0a8-413e-861a-96d119a06cd1",
   "metadata": {
    "tags": []
   },
   "outputs": [],
   "source": [
    "model = Model(inputs=base_model.input, outputs=predictions)\n",
    "model.compile(optimizer=Adam(learning_rate=0.0001), loss='binary_crossentropy', metrics=['accuracy']) #categorical_crossentropy для многоклассовой\n",
    "\n",
    "for layer in base_model.layers[-100:]:\n",
    "    layer.trainable = True\n",
    "\n",
    "early_stopping = EarlyStopping(monitor='val_loss', patience=5, restore_best_weights=True)\n",
    "    \n",
    "history = model.fit(\n",
    "    train_generator,\n",
    "    steps_per_epoch=train_generator.samples // batch_size,\n",
    "    validation_data=validation_generator,\n",
    "    validation_steps=validation_generator.samples // batch_size,\n",
    "    epochs=10,\n",
    "    callbacks=[early_stopping]\n",
    ")"
   ]
  },
  {
   "cell_type": "code",
   "execution_count": null,
   "id": "7a1c8c5c-e281-4d54-9dea-5077dd0592df",
   "metadata": {},
   "outputs": [],
   "source": [
    "for layer in base_model.layers[-50:]:\n",
    "    layer.trainable = True\n",
    "\n",
    "model.compile(optimizer=Adam(learning_rate=0.0001), loss='categorical_crossentropy', metrics=['accuracy'])\n",
    "\n",
    "history_finetune = model.fit(\n",
    "    train_generator,\n",
    "    steps_per_epoch=train_generator.samples // batch_size,\n",
    "    validation_data=validation_generator,\n",
    "    validation_steps=validation_generator.samples // batch_size,\n",
    "    epochs=5\n",
    ")\n",
    "\n",
    "model.save('inoagent_classifier.h5')"
   ]
  },
  {
   "cell_type": "code",
   "execution_count": null,
   "id": "1dd93a0f-d487-407d-bd3e-3058dc5a4091",
   "metadata": {},
   "outputs": [],
   "source": [
    "from tensorflow.keras.preprocessing import image\n",
    "import numpy as np\n",
    "\n",
    "model = tf.keras.models.load_model('inoagent_classifier.h5')\n",
    "\n",
    "img_path = 'test.jpg'\n",
    "img = image.load_img(img_path, target_size=(224 * 4, 224 * 4))\n",
    "img_array = image.img_to_array(img)\n",
    "img_array = np.expand_dims(img_array, axis=0) / 255.0 \n",
    "\n",
    "prediction = model.predict(img_array)\n",
    "predicted_class = np.argmax(prediction, axis=1)\n",
    "\n",
    "class_labels = train_generator.class_indices  \n",
    "class_labels = {v: k for k, v in class_labels.items()}  \n",
    "\n",
    "print(f\"Класс: {class_labels[predicted_class[0]]}\")"
   ]
  }
 ],
 "metadata": {
  "kernelspec": {
   "display_name": "Python 3 (ipykernel)",
   "language": "python",
   "name": "python3"
  },
  "language_info": {
   "codemirror_mode": {
    "name": "ipython",
    "version": 3
   },
   "file_extension": ".py",
   "mimetype": "text/x-python",
   "name": "python",
   "nbconvert_exporter": "python",
   "pygments_lexer": "ipython3",
   "version": "3.10.8"
  }
 },
 "nbformat": 4,
 "nbformat_minor": 5
}
